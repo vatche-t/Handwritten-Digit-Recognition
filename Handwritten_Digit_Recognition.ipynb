{
 "cells": [
  {
   "cell_type": "markdown",
   "metadata": {},
   "source": [
    "<div dir=\"rtl\">\n",
    "\n",
    "\n",
    "<a class=\"anchor\" id=\"bcImp\"></a>\n",
    "## <span style=''>فهرست مطالب</span>\n",
    "* [<b>خلاصه</b>](#abstract)\n",
    "* [<b>وارد کردن وابستگی‌ها و بارگذاری مجموعه داده</b>](#importData)\n",
    "* [<b>مرور داده</b>](#dOverview)\n",
    "     * [ابعاد داده‌های آموزش و آزمایش](#dTrainTest)\n",
    "     * [تصویرسازی داده با استفاده از TSNE](#visualizeTSNE)\n",
    "     * [تقسیم داده به مجموعه آموزش و اعتبارسنجی](#splitData)\n",
    "     * [ابعاد داده‌های آموزش و اعتبارسنجی](#dTrainVal)\n",
    "     * [تبدیل داده‌های آموزش، آزمایش و اعتبارسنجی به آرایه](#reTrainTestVal)\n",
    "     * [ابعاد داده‌های آموزش، آزمایش و اعتبارسنجی پس از تغییر شکل](#dreshape)\n",
    "     * [<b>خلاصه</b>](#summaryData)\n",
    "* [<b>بررسی داده</b>](#exploreData)\n",
    "     * [تصویرسازی چگونگی نوشتن اعداد](#visualizeData)\n",
    "     * [تغییر شکل داده‌های آموزش، آزمایش و اعتبارسنجی](#reshapeData)\n",
    "     * [نرمال‌سازی داده‌های آموزش، آزمایش و اعتبارسنجی](#normalizeData)\n",
    "     * [<b>خلاصه</b>](#summaryExploreData)\n",
    "* [<b>ساخت مدل CNN برای دسته‌بندی اعداد دست‌نویس</b>](#modeling)\n",
    "<a class=\"anchor\" id=\"modelAnchor\"></a>\n",
    "     * [خلاصه مدل آموزش](#modelSummary)\n",
    "     * [تصویرسازی مدل](#modelplot)\n",
    "     * [کامپایل مدل با استفاده از keras.optimizers.Adam](#compileModel)\n",
    "     * [آموزش مدل](#trainModel)\n",
    "     * [<b>خلاصه</b>](#modelBuildSummary)\n",
    "* [<b>ارزیابی مدل</b>](#modelEvaluation)\n",
    "<a class=\"anchor\" id=\"bcImp1\"></a>\n",
    "     * [نمودار تابع هزینه برای مجموعه آموزش و اعتبارسنجی](#lossPlot)\n",
    "     * [نمودار دقت برای مجموعه آموزش و اعتبارسنجی](#accuracyPlot)\n",
    "     * [<b>ارزیابی دقت مدل</b>](#accuracyEvaluation)\n",
    "         * [عملکرد مجموعه داده آموزش](#perfTrain)\n",
    "         * [عملکرد مجموعه داده اعتبارسنجی](#perfValidation)\n",
    "         * [ذخیره و بارگذاری مدل](#saveModel)\n",
    "         * [تصویرسازی داده‌های پیش‌بینی شده اعتبارسنجی و چگونگی نوشتن اعداد](#visualizevalidation)\n",
    "         * [ماتریس اشتباه مجموعه داده اعتبارسنجی](#cmValidation)\n",
    "     * [<b>خلاصه</b>](#modelEvaluationSummary)\n",
    "* [<b>پیش‌بینی مدل بر روی مجموعه داده غیرمشاهده شده (داده آزمایش)</b>](#modelprediction)\n",
    "     * [تصویرسازی داده‌های پیش‌بینی شده از مجموعه داده آزمایش و چگونگی نوشتن اعداد](#visualizePredict)\n",
    "* [<b>تسلیم</b>](#submission)\n"
   ]
  },
  {
   "cell_type": "markdown",
   "metadata": {},
   "source": [
    "<div dir=\"rtl\">وارد کردن وابستگی‌ها و بارگذاری مجموعه داده"
   ]
  },
  {
   "cell_type": "code",
   "execution_count": null,
   "metadata": {},
   "outputs": [],
   "source": [
    "import tensorflow as tf\n",
    "import matplotlib.pyplot as plt\n",
    "import seaborn as sn\n",
    "import numpy as np \n",
    "import pandas as pd #\n",
    "import math\n",
    "import datetime\n",
    "import platform\n"
   ]
  },
  {
   "cell_type": "code",
   "execution_count": null,
   "metadata": {},
   "outputs": [],
   "source": [
    "print('Python version:', platform.python_version())\n",
    "print('Tensorflow version:', tf.__version__)"
   ]
  },
  {
   "cell_type": "code",
   "execution_count": null,
   "metadata": {},
   "outputs": [],
   "source": [
    "# Load the TensorBoard notebook extension.\n",
    "# %reload_ext tensorboard\n",
    "%load_ext tensorboard"
   ]
  },
  {
   "cell_type": "markdown",
   "metadata": {},
   "source": [
    "<div dir=\"rtl\">\n",
    "\n",
    "## <span> 3 | مرور داده </span><a class=\"anchor\" id=\"dOverview\"></a>\n",
    "<hr>\n",
    "\n",
    "\n",
    "\n",
    "مجموعه داده MNIST شامل <code>42,000</code> تصویر آموزشی از اعداد دست نوشته شده از صفر تا نه (10 کلاس مختلف) و <code>28,000</code> تصویر برای آزمایش بدون برچسب شناسه (برای ارسال) است. این تصاویر مقدار پیکسل های خاکستری را دارند و به صورت یک ماتریس <code>28×28</code> نمایش داده می شوند.\n",
    "\n",
    "### 3.1 | ابعاد داده های آموزش و آزمایش <a class=\"anchor\" id=\"dTrainTest\"></a>\n"
   ]
  },
  {
   "cell_type": "code",
   "execution_count": null,
   "metadata": {},
   "outputs": [],
   "source": [
    "train = pd.read_csv('train.csv')\n",
    "test = pd.read_csv('test.csv')"
   ]
  },
  {
   "cell_type": "code",
   "execution_count": null,
   "metadata": {},
   "outputs": [],
   "source": [
    "train.head()"
   ]
  },
  {
   "cell_type": "code",
   "execution_count": null,
   "metadata": {},
   "outputs": [],
   "source": [
    "train.info(), train.shape"
   ]
  },
  {
   "cell_type": "code",
   "execution_count": null,
   "metadata": {},
   "outputs": [],
   "source": [
    "test.info(),  test.shape"
   ]
  },
  {
   "cell_type": "code",
   "execution_count": null,
   "metadata": {},
   "outputs": [],
   "source": [
    "X = train.iloc[:, 1:785]\n",
    "y = train.iloc[:, 0]\n",
    "\n",
    "X_test = test.iloc[:, 0:784]"
   ]
  },
  {
   "cell_type": "markdown",
   "metadata": {},
   "source": [
    "<div dir=\"rtl\">\n",
    "\n",
    "### <span style=''>3.2 | تصویرسازی داده‌ها با استفاده از TSNE </span><a class=\"anchor\" id=\"visualizeTSNE\"></a>\n",
    "<hr>\n",
    "\n",
    "\n",
    "\n",
    "<b>TSNE</b> - مخفف t-Distributed Stochastic Neighbor embedding. این الگوریتم کاهش ابعاد است که برای حفظ ساختار محلی در مجموعه داده‌های بعد بالا طراحی شده است، اما به ساختار جهانی کمتر اهمیت می‌دهد. در اینجا، ما از آن برای تبدیل ابعاد تصاویر از 784 بعدی به دو بعد استفاده می‌کنیم. این کار نمودار کشیدن را آسان‌تر می‌کند. مقیاس رنگی مربوط به برچسب اصلی MNIST است و می‌توان دید که جداکنندگی برچسب‌ها آشکار است."
   ]
  },
  {
   "cell_type": "code",
   "execution_count": null,
   "metadata": {},
   "outputs": [],
   "source": [
    "# WARNING: running t-SNE on the full data set takes a while.\n",
    "X_tsn = X/255\n",
    "\n",
    "from sklearn.manifold import TSNE\n",
    "tsne = TSNE()\n",
    "\n",
    "tsne_res = tsne.fit_transform(X_tsn)"
   ]
  },
  {
   "cell_type": "code",
   "execution_count": null,
   "metadata": {},
   "outputs": [],
   "source": [
    "plt.figure(figsize=(14, 12))\n",
    "plt.scatter(tsne_res[:,0], tsne_res[:,1], c=y, s=2)\n",
    "plt.xticks([])\n",
    "plt.yticks([])\n",
    "plt.colorbar()"
   ]
  },
  {
   "cell_type": "markdown",
   "metadata": {},
   "source": [
    "<div dir=\"rtl\">\n",
    "\n",
    "### 3.3 | تقسیم داده به دو مجموعه آموزشی و اعتبارسنجی<a class=\"anchor\" id=\"splitData\"></a>\n",
    "\n",
    "\n",
    "ما دیتاست ما (X) را به دو بخش تقسیم می‌کنیم.\n",
    "<ol>\n",
    "    <li> داده‌های آموزشی (<b>80%</b>) برای آموزش مدل‌های ما استفاده می‌شود</li>\n",
    "    <li> داده‌های اعتبارسنجی (<b>20%</b>) برای ارزیابی مدل‌های ما استفاده می‌شود</li>\n",
    "</ol>\n",
    "\n",
    "متد <code>train_test_split()</code> به ما داده‌های آموزشی و برچسب‌های آنها و همچنین داده‌های اعتبارسنجی و برچسب‌های آنها را باز می‌گرداند."
   ]
  },
  {
   "cell_type": "code",
   "execution_count": null,
   "metadata": {},
   "outputs": [],
   "source": [
    "from sklearn.model_selection import train_test_split\n",
    "X_train, X_validation, y_train, y_validation = train_test_split(X, y, test_size = 0.2,random_state = 1212)"
   ]
  },
  {
   "cell_type": "markdown",
   "metadata": {},
   "source": [
    "<div dir=\"rtl\">\n",
    "\n",
    "### 3.4 | ابعاد داده‌های آموزش و اعتبارسنجی<a class=\"anchor\" id=\"dTrainVal\"></a>"
   ]
  },
  {
   "cell_type": "code",
   "execution_count": null,
   "metadata": {},
   "outputs": [],
   "source": [
    "print('X_train:', X_train.shape)\n",
    "print('y_train:', y_train.shape)\n",
    "print('X_validation:', X_validation.shape)\n",
    "print('y_validation:', y_validation.shape)"
   ]
  },
  {
   "cell_type": "markdown",
   "metadata": {},
   "source": [
    "<div dir=\"rtl\">\n",
    "\n",
    "### 3.5 | تبدیل داده‌های آموزش، آزمایش و اعتبارسنجی به آرایه<a class=\"anchor\" id=\"reTrainTestVal\"></a>"
   ]
  },
  {
   "cell_type": "code",
   "execution_count": null,
   "metadata": {},
   "outputs": [],
   "source": [
    "x_train_re = X_train.to_numpy().reshape(33600, 28, 28)\n",
    "y_train_re = y_train.values\n",
    "x_validation_re = X_validation.to_numpy().reshape(8400, 28, 28)\n",
    "y_validation_re = y_validation.values\n",
    "x_test_re = test.to_numpy().reshape(28000, 28, 28)"
   ]
  },
  {
   "cell_type": "markdown",
   "metadata": {},
   "source": [
    "<div dir=\"rtl\">\n",
    "\n",
    "### 3.6 | ابعاد داده‌های آموزش، آزمون و اعتبارسنجی پس از تغییر شکل<a class=\"anchor\" id=\"dreshape\">"
   ]
  },
  {
   "cell_type": "code",
   "execution_count": null,
   "metadata": {},
   "outputs": [],
   "source": [
    "print('x_train:', x_train_re.shape)\n",
    "print('y_train:', y_train_re.shape)\n",
    "print('x_validation:', x_validation_re.shape)\n",
    "print('y_validation:', y_validation_re.shape)\n",
    "print('x_test:', x_test_re.shape)"
   ]
  },
  {
   "cell_type": "code",
   "execution_count": null,
   "metadata": {},
   "outputs": [],
   "source": [
    "(_, IMAGE_WIDTH, IMAGE_HEIGHT) = x_train_re.shape\n",
    "IMAGE_CHANNELS = 1\n",
    "\n",
    "print('IMAGE_WIDTH:', IMAGE_WIDTH);\n",
    "print('IMAGE_HEIGHT:', IMAGE_HEIGHT);\n",
    "print('IMAGE_CHANNELS:', IMAGE_CHANNELS);"
   ]
  },
  {
   "cell_type": "markdown",
   "metadata": {},
   "source": [
    "<div dir=\"rtl\">\n",
    "\n",
    "\n",
    "## <span style=''> 4 | بررسی داده‌ها </span><a class=\"anchor\" id=\"exploreData\">\n",
    "\n",
    "در اینجا نمایش داده شده است که هر تصویر در مجموعه داده چگونه است. این یک ماتریس <code>28x28</code> از اعداد صحیح (از 0 تا 255) است و هر عدد صحیح نمایانگر رنگ یک پیکسل است."
   ]
  },
  {
   "cell_type": "code",
   "execution_count": null,
   "metadata": {},
   "outputs": [],
   "source": [
    "pd.DataFrame(x_train_re[0])"
   ]
  },
  {
   "cell_type": "markdown",
   "metadata": {},
   "source": [
    "<div dir=\"rtl\">\n",
    "\n",
    "### ۴.۱ | تصویرسازی چگونه اعداد نوشته شده‌اند <a class=\"anchor\" id=\"visualizeData\"></a>\n",
    "\n",
    "این ماتریس اعداد ممکن است به شکل زیر نمایش داده شود:"
   ]
  },
  {
   "cell_type": "code",
   "execution_count": null,
   "metadata": {},
   "outputs": [],
   "source": [
    "plt.imshow(x_train_re[0], cmap=plt.cm.binary)\n",
    "plt.show()"
   ]
  },
  {
   "cell_type": "markdown",
   "metadata": {},
   "source": [
    "\n",
    "<div dir=\"rtl\">\n",
    "سابقه‌ی اولین داده‌های آموزشی ما نمایانگر عدد ۲ است. <br>\n",
    "بیایید چند نمونه‌ی دیگر از داده‌های آموزشی چاپ کنیم تا احساس کنیم که چگونه اعداد نوشته شده‌اند."
   ]
  },
  {
   "cell_type": "code",
   "execution_count": null,
   "metadata": {},
   "outputs": [],
   "source": [
    "numbers_to_display = 100\n",
    "num_cells = math.ceil(math.sqrt(numbers_to_display))\n",
    "plt.figure(figsize=(20,20))\n",
    "for i in range(numbers_to_display):\n",
    "    plt.subplot(num_cells, num_cells, i+1)\n",
    "    plt.xticks([])\n",
    "    plt.yticks([])\n",
    "    plt.grid(False)\n",
    "    plt.imshow(x_train_re[i], cmap=plt.cm.binary)\n",
    "    plt.xlabel(y_train_re[i])\n",
    "plt.show()"
   ]
  },
  {
   "cell_type": "markdown",
   "metadata": {},
   "source": [
    "<div dir=\"rtl\">\n",
    "\n",
    "### ۴.۲ | تغییر شکل دادن داده‌های آموزش، آزمون و اعتبارسنجی <a class =\"anchor\" id = \"reshapeData\"></a>\n",
    "\n",
    "\n",
    "برای استفاده از لایه‌های تبدیل تصویر نیاز به تغییر شکل داده‌های ما و اضافه کردن یک کانال رنگ به آن داریم. همانطور که متوجه شده‌اید، در حال حاضر هر رقم شکلی به ابعاد (۲۸، ۲۸) دارد که به معنای آن است که این یک ماتریس ۲۸ در ۲۸ از ارزش‌های رنگی از ۰ تا ۲۵۵ است. ما باید آن را به شکل (۲۸، ۲۸، ۱) تغییر شکل دهیم تا هر پیکسل به طور احتمالی بتواند چندین کانال (مثل قرمز، سبز و آبی) داشته باشد."
   ]
  },
  {
   "cell_type": "code",
   "execution_count": null,
   "metadata": {},
   "outputs": [],
   "source": [
    "x_train_with_chanels = x_train_re.reshape(\n",
    "    x_train_re.shape[0],\n",
    "    IMAGE_WIDTH,\n",
    "    IMAGE_HEIGHT,\n",
    "    IMAGE_CHANNELS\n",
    ")\n",
    "\n",
    "x_validation_with_chanels = x_validation_re.reshape(\n",
    "    x_validation_re.shape[0],\n",
    "    IMAGE_WIDTH,\n",
    "    IMAGE_HEIGHT,\n",
    "    IMAGE_CHANNELS\n",
    ")\n",
    "\n",
    "x_test_with_chanels = x_test_re.reshape(\n",
    "    x_test_re.shape[0],\n",
    "    IMAGE_WIDTH,\n",
    "    IMAGE_HEIGHT,\n",
    "    IMAGE_CHANNELS\n",
    ")"
   ]
  },
  {
   "cell_type": "code",
   "execution_count": null,
   "metadata": {},
   "outputs": [],
   "source": [
    "print('x_train_with_chanels:', x_train_with_chanels.shape)\n",
    "print('x_validation_with_chanels:', x_validation_with_chanels.shape)\n",
    "print('x_test_with_chanels:', x_test_with_chanels.shape)"
   ]
  },
  {
   "cell_type": "markdown",
   "metadata": {},
   "source": [
    "<div dir=\"rtl\">\n",
    "\n",
    "### 4.3 | نرمال‌سازی داده‌های آموزش، آزمون و اعتبارسنجی <a class=\"anchor\" id=\"normalizeData\"></a>\n",
    "\n",
    "در اینجا ما فقط سعی داریم مقادیر را از دامنه [0...255] به [0...1] نرمال‌سازی کنیم."
   ]
  },
  {
   "cell_type": "code",
   "execution_count": null,
   "metadata": {},
   "outputs": [],
   "source": [
    "x_train_normalized = x_train_with_chanels / 255\n",
    "x_validation_normalized = x_validation_with_chanels / 255\n",
    "x_test_normalized = x_test_with_chanels / 255"
   ]
  },
  {
   "cell_type": "code",
   "execution_count": null,
   "metadata": {},
   "outputs": [],
   "source": [
    "# Let's check just one row from the 0th image to see color chanel values after normalization.\n",
    "x_train_normalized[0][10]"
   ]
  },
  {
   "cell_type": "markdown",
   "metadata": {},
   "source": [
    "<div dir=\"rtl\">\n",
    "\n",
    "## <span style=''> 5 | ساخت مدل CNN برای دسته‌بندی اعداد دست‌نوشته </span><a class=\"anchor\" id=\"modeling\"></a>\n",
    "<hr>\n",
    "\n",
    "\n",
    "یک مدل شبکه عصبی مکرر معمولاً شامل لایه‌های کانوولوشن و لایه‌های پولینگ است.\n",
    "\n",
    "ما از مدل Sequential Keras استفاده می‌کنیم که دو جفت از لایه‌های Convolution2D و MaxPooling2D دارد. لایه MaxPooling به عنوان نوعی از کاهش ابعاد عمل می‌کند و از مقادیر بزرگتر در یک ناحیه استفاده می‌کند به جای میانگین‌گیری.\n",
    "\n",
    "پس از آن، از لایه Flatten استفاده می‌کنیم تا پارامترهای چندبعدی را به یک بردار تبدیل کنیم.\n",
    "\n",
    "آخرین لایه یک لایه Dense با 10 خروجی Softmax خواهد بود. خروجی نمایش شبکه را نشان می‌دهد. خروجی صفرم احتمالی را نشان می‌دهد که عدد ورودی صفر باشد، خروجی اول احتمالی را نشان می‌دهد که عدد ورودی یک باشد و به همین ترتیب..."
   ]
  },
  {
   "cell_type": "code",
   "execution_count": null,
   "metadata": {},
   "outputs": [],
   "source": [
    "model = tf.keras.models.Sequential()\n",
    "\n",
    "model.add(tf.keras.layers.Convolution2D(\n",
    "    input_shape=(IMAGE_WIDTH, IMAGE_HEIGHT, IMAGE_CHANNELS),\n",
    "    kernel_size=5,\n",
    "    filters=8,\n",
    "    strides=1,\n",
    "    activation=tf.keras.activations.relu,\n",
    "    kernel_initializer=tf.keras.initializers.VarianceScaling()\n",
    "))\n",
    "\n",
    "model.add(tf.keras.layers.MaxPooling2D(\n",
    "    pool_size=(2, 2),\n",
    "    strides=(2, 2)\n",
    "))\n",
    "\n",
    "model.add(tf.keras.layers.Convolution2D(\n",
    "    kernel_size=5,\n",
    "    filters=16,\n",
    "    strides=1,\n",
    "    activation=tf.keras.activations.relu,\n",
    "    kernel_initializer=tf.keras.initializers.VarianceScaling()\n",
    "))\n",
    "\n",
    "model.add(tf.keras.layers.MaxPooling2D(\n",
    "    pool_size=(2, 2),\n",
    "    strides=(2, 2)\n",
    "))\n",
    "\n",
    "model.add(tf.keras.layers.Flatten())\n",
    "\n",
    "model.add(tf.keras.layers.Dense(\n",
    "    units=128,\n",
    "    activation=tf.keras.activations.relu\n",
    "))\n",
    "\n",
    "model.add(tf.keras.layers.Dropout(0.2))\n",
    "\n",
    "model.add(tf.keras.layers.Dense(\n",
    "    units=10,\n",
    "    activation=tf.keras.activations.softmax,\n",
    "    kernel_initializer=tf.keras.initializers.VarianceScaling()\n",
    "))"
   ]
  },
  {
   "cell_type": "markdown",
   "metadata": {},
   "source": [
    "<div dir=\"rtl\">\n",
    "\n",
    "### ۵.۱ | خلاصه‌ی مدل آموزشی <a class=\"anchor\" id=\"modelSummary\"></a>\n",
    "\n",
    "\n",
    "تا اینجا خلاصه‌ی مدل ما به شرح زیر است."
   ]
  },
  {
   "cell_type": "code",
   "execution_count": null,
   "metadata": {},
   "outputs": [],
   "source": [
    "model.summary()"
   ]
  },
  {
   "cell_type": "markdown",
   "metadata": {},
   "source": [
    "<div dir=\"rtl\">\n",
    "\n",
    "### ۵.۲ | تصویرسازی مدل <a class =\"anchor\" id = \"modelplot\"></a>\n",
    "برای نمایش مدل، باید graphviz نصب شده باشد.\n",
    "\n",
    "یک خلاصه مدل که لایه‌های مختلفی که در مدل تعریف شده است را توصیف می‌کند."
   ]
  },
  {
   "cell_type": "code",
   "execution_count": null,
   "metadata": {},
   "outputs": [],
   "source": [
    "tf.keras.utils.plot_model(\n",
    "    model,\n",
    "    show_shapes=True,\n",
    "    show_layer_names=True,\n",
    ")"
   ]
  },
  {
   "cell_type": "markdown",
   "metadata": {},
   "source": [
    "<div dir=\"rtl\">\n",
    "\n",
    "\n",
    "### 5.3 | کامپایل مدل با استفاده از keras.optimizers.Adam <a class =\"anchor\" id = \"compileModel\"></a>"
   ]
  },
  {
   "cell_type": "code",
   "execution_count": null,
   "metadata": {},
   "outputs": [],
   "source": [
    "adam_optimizer = tf.keras.optimizers.Adam(learning_rate=0.001)\n",
    "\n",
    "model.compile(\n",
    "    optimizer=adam_optimizer,\n",
    "    loss=tf.keras.losses.sparse_categorical_crossentropy,\n",
    "    metrics=['accuracy']\n",
    ")"
   ]
  },
  {
   "cell_type": "markdown",
   "metadata": {},
   "source": [
    "<div dir=\"rtl\">\n",
    "\n",
    "\n",
    "### 5.4 | آموزش مدل <a class =\"anchor\" id =\"trainModel\"></a>"
   ]
  },
  {
   "cell_type": "code",
   "execution_count": null,
   "metadata": {},
   "outputs": [],
   "source": [
    "log_dir=\".logs/fit/\" + datetime.datetime.now().strftime(\"%Y%m%d-%H%M%S\")\n",
    "tensorboard_callback = tf.keras.callbacks.TensorBoard(log_dir=log_dir, histogram_freq=1)\n",
    "\n",
    "training_history = model.fit(\n",
    "    x_train_normalized,\n",
    "    y_train_re,\n",
    "    epochs=10,\n",
    "    validation_data=(x_validation_normalized, y_validation_re),\n",
    "    callbacks=[tensorboard_callback]\n",
    ")\n",
    "\n",
    "print(\"The model has successfully trained\")"
   ]
  },
  {
   "cell_type": "markdown",
   "metadata": {},
   "source": [
    "<div dir=\"rtl\">\n",
    "\n",
    "\n",
    "## <span > 6 | ارزیابی مدل </span><a class =\"anchor\" id =\"modelEvaluation\"></a>\n",
    "<hr>\n",
    "\n",
    "\n",
    "### 6.1 | نمودار تغییر تابع خطا برای آموزش و اعتبارسنجی<a class=\"anchor\" id =\"lossPlot\"><a/>\n",
    "    \n",
    "بیایید ببینیم که تابع خطا در طول آموزش چگونه تغییر می‌کرد. انتظار داریم که با هر دور آموزش، کوچکتر و کوچکتر شود."
   ]
  },
  {
   "cell_type": "code",
   "execution_count": null,
   "metadata": {},
   "outputs": [],
   "source": [
    "plt.xlabel('Epoch Number')\n",
    "plt.ylabel('Accuracy')\n",
    "plt.plot(training_history.history['loss'], label='training set')\n",
    "plt.plot(training_history.history['val_loss'], label='validation set')\n",
    "plt.legend()"
   ]
  },
  {
   "cell_type": "markdown",
   "metadata": {},
   "source": [
    "<div dir=\"rtl\">\n",
    "\n",
    "### 6.2 | نمودار منحنی دقت برای آموزش و اعتبارسنجی<a class=\"anchor\" id =\"accuracyPlot\"><a/>\n"
   ]
  },
  {
   "cell_type": "code",
   "execution_count": null,
   "metadata": {},
   "outputs": [],
   "source": [
    "plt.xlabel('Epoch Number')\n",
    "plt.ylabel('Accuracy')\n",
    "plt.plot(training_history.history['accuracy'], label='training set')\n",
    "plt.plot(training_history.history['val_accuracy'], label='validation set')\n",
    "plt.legend()"
   ]
  },
  {
   "cell_type": "markdown",
   "metadata": {},
   "source": [
    "<div dir=\"rtl\">\n",
    "\n",
    "\n",
    "### 6.3 | ارزیابی دقت مدل<a class=\"anchor\" id=\"accuracyEvaluation\"></a>\n",
    "\n",
    "ما باید دقت مدل خود را در مجموعه آموزش و مجموعه ارزیابی مقایسه کنیم. ما انتظار داریم مدل ما در هر دو مجموعه به طرز مشابهی عمل کند. اگر عملکرد در مجموعه ارزیابی نسبت به مجموعه آموزش ضعیف باشد، این به ما نشانگری می‌دهد که مدل به طور زیادی برازش شده است و ما با مشکل \"تنوع بالا\" روبه‌رو هستیم."
   ]
  },
  {
   "cell_type": "markdown",
   "metadata": {},
   "source": [
    "<div dir=\"rtl\">\n",
    "\n",
    "\n",
    "#### 6.3.1 | عملکرد مجموعه داده آموزشی <a class=\"anchor\" id=\"perfTrain\"></a>"
   ]
  },
  {
   "cell_type": "code",
   "execution_count": null,
   "metadata": {},
   "outputs": [],
   "source": [
    "train_loss, train_accuracy = model.evaluate(x_train_normalized, y_train_re)"
   ]
  },
  {
   "cell_type": "code",
   "execution_count": null,
   "metadata": {},
   "outputs": [],
   "source": [
    "print('Train loss: ', train_loss)\n",
    "print('Train accuracy: ', train_accuracy)"
   ]
  },
  {
   "cell_type": "markdown",
   "metadata": {},
   "source": [
    "<div dir=\"rtl\">\n",
    "\n",
    "\n",
    "### 6.3.2 | عملکرد مجموعه داده اعتبارسنجی <a class=\"anchor\" id=\"perfValidation\"></a>"
   ]
  },
  {
   "cell_type": "code",
   "execution_count": null,
   "metadata": {},
   "outputs": [],
   "source": [
    "validation_loss, validation_accuracy = model.evaluate(x_validation_normalized, y_validation_re)"
   ]
  },
  {
   "cell_type": "code",
   "execution_count": null,
   "metadata": {},
   "outputs": [],
   "source": [
    "print('Validation loss: ', validation_loss)\n",
    "print('Validation accuracy: ', validation_accuracy)"
   ]
  },
  {
   "cell_type": "markdown",
   "metadata": {},
   "source": [
    "<div dir=\"rtl\">با یک امتیاز تایید نزدیک به ۹۹٪، ما ادامه می‌دهیم و از این مدل برای پیش‌بینی مجموعه آزمایشی استفاده می‌کنیم."
   ]
  },
  {
   "cell_type": "markdown",
   "metadata": {},
   "source": [
    "<div dir=\"rtl\">\n",
    "\n",
    "### 6.3.3 | ذخیره و بارگیری مدل<a class=\"anchor\" id=\"saveModel\"></a>\n",
    "\n",
    "ما کل مدل را در یک فایل HDF5 ذخیره خواهیم کرد. پسوند .h5 فایل نشان می‌دهد که مدل باید به صورت یک فایل HDF5 در فرمت Keras ذخیره شود."
   ]
  },
  {
   "cell_type": "code",
   "execution_count": null,
   "metadata": {},
   "outputs": [],
   "source": [
    "model_name = 'digits_recognition_cnn.h5'\n",
    "model.save(model_name, save_format='h5')"
   ]
  },
  {
   "cell_type": "code",
   "execution_count": null,
   "metadata": {},
   "outputs": [],
   "source": [
    "loaded_model = tf.keras.models.load_model(model_name)"
   ]
  },
  {
   "cell_type": "markdown",
   "metadata": {},
   "source": [
    "<div dir=\"rtl\">\n",
    "\n",
    "### 6.3.4 | نمایش داده‌های پیش‌بینی شده اعتبارسنجی درباره نحوه نوشتن اعداد <a class=\"anchor\" id=\"visualizevalidation\"></a>\n",
    "\n",
    "برای استفاده از مدلی که به تازگی برای تشخیص اعداد آموزش دادیم، باید متد predict() را فراخوانی کنیم."
   ]
  },
  {
   "cell_type": "code",
   "execution_count": null,
   "metadata": {},
   "outputs": [],
   "source": [
    "predictions_one_hot = loaded_model.predict([x_validation_normalized])"
   ]
  },
  {
   "cell_type": "code",
   "execution_count": null,
   "metadata": {},
   "outputs": [],
   "source": [
    "print('predictions_one_hot:', predictions_one_hot.shape)"
   ]
  },
  {
   "cell_type": "markdown",
   "metadata": {},
   "source": [
    "<div dir=\"rtl\">\n",
    "\n",
    "هر پیش‌بینی از ۱۰ احتمال تشکیل شده است (یکی برای هر عدد از ۰ تا ۹). ما باید عددی را که احتمال بالاتری دارد انتخاب کنیم، چرا که این عدد عددی است که مدل ما بیشترین اعتماد به آن را دارد."
   ]
  },
  {
   "cell_type": "code",
   "execution_count": null,
   "metadata": {},
   "outputs": [],
   "source": [
    "pd.DataFrame(predictions_one_hot)"
   ]
  },
  {
   "cell_type": "code",
   "execution_count": null,
   "metadata": {},
   "outputs": [],
   "source": [
    "# Let's extract predictions with highest probabilites and detect what digits have been actually recognized.\n",
    "predictions = np.argmax(predictions_one_hot, axis=1)\n",
    "pd.DataFrame(predictions)"
   ]
  },
  {
   "cell_type": "markdown",
   "metadata": {},
   "source": [
    "<div dir=\"rtl\">\n",
    "\n",
    "بنابراین مدل ما پیش‌بینی می‌کند که اولین مثال از مجموعه اعتبارسنجی برابر با 1 است. بیایید تصویر اول از مجموعه اعتبارسنجی را چاپ کنیم تا ببینیم آیا پیش‌بینی مدل درست است."
   ]
  },
  {
   "cell_type": "code",
   "execution_count": null,
   "metadata": {},
   "outputs": [],
   "source": [
    "plt.imshow(x_validation_normalized[0].reshape((IMAGE_WIDTH, IMAGE_HEIGHT)), cmap=plt.cm.binary)\n",
    "plt.show()"
   ]
  },
  {
   "cell_type": "markdown",
   "metadata": {},
   "source": [
    "<div dir=\"rtl\">\n",
    "ما مشاهده می‌کنیم که مدل ما پیش‌بینی صحیحی انجام داده و به درستی رقم 1 را تشخیص داده است. بیایید چند مثال آزمون دیگر و پیش‌بینی‌های مرتبط را چاپ کنیم تا ببینیم که مدل چگونه عمل می‌کند و در کجا اشتباه می‌کند."
   ]
  },
  {
   "cell_type": "code",
   "execution_count": null,
   "metadata": {},
   "outputs": [],
   "source": [
    "numbers_to_display = 196\n",
    "num_cells = math.ceil(math.sqrt(numbers_to_display))\n",
    "plt.figure(figsize=(15, 15))\n",
    "\n",
    "for plot_index in range(numbers_to_display):    \n",
    "    predicted_label = predictions[plot_index]\n",
    "    plt.xticks([])\n",
    "    plt.yticks([])\n",
    "    plt.grid(False)\n",
    "    color_map = 'Greens' if predicted_label == y_validation_re[plot_index] else 'Reds'\n",
    "    plt.subplot(num_cells, num_cells, plot_index + 1)\n",
    "    plt.imshow(x_validation_normalized[plot_index].reshape((IMAGE_WIDTH, IMAGE_HEIGHT)), cmap=color_map)\n",
    "    plt.xlabel(predicted_label)\n",
    "\n",
    "plt.subplots_adjust(hspace=1, wspace=0.5)\n",
    "plt.show()"
   ]
  },
  {
   "cell_type": "markdown",
   "metadata": {},
   "source": [
    "<div dir=\"rtl\">\n",
    "\n",
    "\n",
    "### 6.3.5 | ماتریس گیجگاهی مجموعه داده اعتبارسنجی <a class = \"anchor\" id = \"cmValidation\"></a>\n",
    "\n",
    "\n",
    "ماتریس گیجگاهی نشان می‌دهد که مدل به خوبی اعداد چه اعدادی را تشخیص می‌دهد و چه اعدادی را معمولاً به درستی تشخیص نمی‌دهد."
   ]
  },
  {
   "cell_type": "code",
   "execution_count": null,
   "metadata": {},
   "outputs": [],
   "source": [
    "confusion_matrix = tf.math.confusion_matrix(y_validation_re, predictions)\n",
    "f, ax = plt.subplots(figsize=(9, 7))\n",
    "sn.heatmap(\n",
    "    confusion_matrix,\n",
    "    annot=True,\n",
    "    linewidths=.5,\n",
    "    fmt=\"d\",\n",
    "    square=True,\n",
    "    ax=ax\n",
    ")\n",
    "plt.show()"
   ]
  },
  {
   "cell_type": "markdown",
   "metadata": {},
   "source": [
    "<div dir=\"rtl\">\n",
    "\n",
    "\n",
    "## <span > 7 | پیش‌بینی مدل بر روی مجموعه داده‌های دیده نشده (داده‌های تست) </span><a class=\"anchor\" id=\"modelprediction\"></a>\n",
    "<hr>"
   ]
  },
  {
   "cell_type": "markdown",
   "metadata": {},
   "source": []
  },
  {
   "cell_type": "code",
   "execution_count": null,
   "metadata": {},
   "outputs": [],
   "source": [
    "predictions_one_hot = loaded_model.predict([x_test_normalized])\n",
    "print('predictions_one_hot:', predictions_one_hot.shape)"
   ]
  },
  {
   "cell_type": "markdown",
   "metadata": {},
   "source": [
    "<div dir=\"rtl\">\n",
    "\n",
    "\n",
    "هر پیش‌بینی ده احتمال دارد (یکی برای هر عدد از ۰ تا ۹). ما باید عددی که احتمال بالاتری دارد را انتخاب کنیم.\n",
    "#### احتمالات پیش‌بینی شده برای تمامی اعداد."
   ]
  },
  {
   "cell_type": "code",
   "execution_count": null,
   "metadata": {},
   "outputs": [],
   "source": [
    "pd.DataFrame(predictions_one_hot)"
   ]
  },
  {
   "cell_type": "markdown",
   "metadata": {},
   "source": [
    "\n",
    "<div dir=\"rtl\">\n",
    "\n",
    "### 7.1 | تصویرسازی داده‌های پیش‌بینی شده توسط تست: چگونگی نوشتار اعداد<a class=\"anchor\" id=\"visualizePredict\"></a>\n",
    "\n",
    "\n",
    "اعداد پیش‌بینی شده با بالاترین احتمالات"
   ]
  },
  {
   "cell_type": "markdown",
   "metadata": {},
   "source": [
    "<div dir=\"rtl\">\n",
    "\n",
    "\n",
    "هر پیش‌بینی ده احتمال دارد (یکی برای هر عدد از ۰ تا ۹). ما باید عددی که احتمال بالاتری دارد را انتخاب کنیم.\n",
    "#### احتمالات پیش‌بینی شده برای تمامی اعداد.\n",
    "\n",
    "#### عدد واقعی اول از داده‌های آزمون"
   ]
  },
  {
   "cell_type": "code",
   "execution_count": null,
   "metadata": {},
   "outputs": [],
   "source": [
    "plt.imshow(x_test_normalized[0].reshape((IMAGE_WIDTH, IMAGE_HEIGHT)), cmap=plt.cm.binary)\n",
    "plt.show()"
   ]
  },
  {
   "cell_type": "code",
   "execution_count": null,
   "metadata": {},
   "outputs": [],
   "source": [
    "test_pred = pd.DataFrame( loaded_model.predict([x_test_normalized]))\n",
    "test_pred = pd.DataFrame(test_pred.idxmax(axis = 1))\n",
    "test_pred.index.name = 'ImageId'\n",
    "test_pred = test_pred.rename(columns = {0: 'Label'}).reset_index()\n",
    "test_pred['ImageId'] = test_pred['ImageId'] + 1\n",
    "\n",
    "test_pred.head()"
   ]
  },
  {
   "cell_type": "code",
   "execution_count": null,
   "metadata": {},
   "outputs": [],
   "source": [
    "test_pred.to_csv('submission.csv', index = False)"
   ]
  }
 ],
 "metadata": {
  "kernelspec": {
   "display_name": "base",
   "language": "python",
   "name": "python3"
  },
  "language_info": {
   "codemirror_mode": {
    "name": "ipython",
    "version": 3
   },
   "file_extension": ".py",
   "mimetype": "text/x-python",
   "name": "python",
   "nbconvert_exporter": "python",
   "pygments_lexer": "ipython3",
   "version": "3.11.5"
  }
 },
 "nbformat": 4,
 "nbformat_minor": 2
}
